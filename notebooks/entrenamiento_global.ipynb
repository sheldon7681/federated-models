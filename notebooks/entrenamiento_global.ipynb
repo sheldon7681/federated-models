{
 "cells": [
  {
   "cell_type": "markdown",
   "id": "d68dbede",
   "metadata": {},
   "source": [
    "# Entrenamiento de modelos globales usando distintas técnicas para combinar los pesos de los modelos entrenados en distintos folds de los datos de mnist"
   ]
  },
  {
   "cell_type": "code",
   "execution_count": 23,
   "id": "b91af3ce",
   "metadata": {},
   "outputs": [],
   "source": [
    "\n",
    "\n",
    "import tensorflow as tf\n",
    "import numpy as np\n",
    "import sys\n",
    "import matplotlib.pyplot as plt\n",
    "if \"..\" not in sys.path:\n",
    "    sys.path.append(\"..\")\n"
   ]
  },
  {
   "cell_type": "markdown",
   "id": "95ee78e0",
   "metadata": {},
   "source": [
    "### Ejemplos de los datos"
   ]
  },
  {
   "cell_type": "code",
   "execution_count": 24,
   "id": "d4edc8e6",
   "metadata": {},
   "outputs": [],
   "source": [
    "x_test = np.load('../data/x_test.npy')\n",
    "y_test = np.load('../data/y_test.npy')\n"
   ]
  },
  {
   "cell_type": "code",
   "execution_count": 25,
   "id": "b053554d",
   "metadata": {},
   "outputs": [
    {
     "data": {
      "image/png": "[encoded data removed]",
      "text/plain": [
       "<Figure size 1000x500 with 5 Axes>"
      ]
     },
     "metadata": {},
     "output_type": "display_data"
    }
   ],
   "source": [
    "import matplotlib.pyplot as plt\n",
    "plt.figure(figsize=(10, 5))\n",
    "for i in range(5):\n",
    "    plt.subplot(1, 5, i+1)\n",
    "    plt.imshow(x_test[i], cmap='gray')\n",
    "    plt.title(f\"Label: {y_test[i]}\")\n",
    "    plt.axis('off')\n",
    "\n",
    "plt.show()"
   ]
  },
  {
   "cell_type": "code",
   "execution_count": 26,
   "id": "9ce1d7b9",
   "metadata": {},
   "outputs": [
    {
     "name": "stderr",
     "output_type": "stream",
     "text": [
      "d:\\claseCloud\\federated-models\\.venv\\Lib\\site-packages\\keras\\src\\saving\\saving_lib.py:757: UserWarning: Skipping variable loading for optimizer 'adam', because it has 18 variables whereas the saved optimizer has 2 variables. \n",
      "  saveable.load_own_variables(weights_store.get(inner_path))\n"
     ]
    }
   ],
   "source": [
    "## Abrir los modelos:\n",
    "\n",
    "import os\n",
    "loaded_local_models = [tf.keras.models.load_model(os.path.join(root, file)) for root, dirs, files in os.walk(\"../models\") for file in files if file.endswith('.keras')]\n",
    "#for i in range(len(loaded_local_models)-1):\n",
    " #   assert loaded_local_models[i].summary() == loaded_local_models[i+1].summary(), \"Models have different architectures\""
   ]
  },
  {
   "cell_type": "markdown",
   "id": "c9b49171",
   "metadata": {},
   "source": [
    "# Federated averaging\n",
    "\n",
    "**Cambiar descripción para entrega final**\n",
    "\n",
    "Federated averaging (FedAvg) is a generalization of FedSGD, which allows local nodes to perform more than one batch update on local data and exchanges the updated weights rather than the gradients. The rationale behind this generalization is that in FedSGD, if all local nodes start from the same initialization, averaging the gradients is strictly equivalent to averaging the weights themselves. Further, averaging tuned weights coming from the same initialization does not necessarily hurt the resulting averaged model's performance.[20] Variations of FedAvg based on adaptive optimizers such as ADAM and AdaGrad have been proposed, and generally outperform FedAvg.[21] "
   ]
  },
  {
   "cell_type": "code",
   "execution_count": 27,
   "id": "20fcc003",
   "metadata": {},
   "outputs": [
    {
     "name": "stderr",
     "output_type": "stream",
     "text": [
      "d:\\claseCloud\\federated-models\\.venv\\Lib\\site-packages\\keras\\src\\layers\\convolutional\\base_conv.py:107: UserWarning: Do not pass an `input_shape`/`input_dim` argument to a layer. When using Sequential models, prefer using an `Input(shape)` object as the first layer in the model instead.\n",
      "  super().__init__(activity_regularizer=activity_regularizer, **kwargs)\n"
     ]
    },
    {
     "name": "stdout",
     "output_type": "stream",
     "text": [
      "\u001b[1m313/313\u001b[0m \u001b[32m━━━━━━━━━━━━━━━━━━━━\u001b[0m\u001b[37m\u001b[0m \u001b[1m3s\u001b[0m 9ms/step\n",
      "              precision    recall  f1-score   support\n",
      "\n",
      "           0       0.00      0.00      0.00       980\n",
      "           1       0.00      0.00      0.00      1135\n",
      "           2       0.00      0.00      0.00      1032\n",
      "           3       0.00      0.00      0.00      1010\n",
      "           4       0.04      0.09      0.05       982\n",
      "           5       0.00      0.00      0.00       892\n",
      "           6       0.11      0.86      0.19       958\n",
      "           7       0.00      0.00      0.00      1028\n",
      "           8       0.00      0.00      0.00       974\n",
      "           9       0.00      0.00      0.00      1009\n",
      "\n",
      "    accuracy                           0.09     10000\n",
      "   macro avg       0.01      0.10      0.02     10000\n",
      "weighted avg       0.01      0.09      0.02     10000\n",
      "\n"
     ]
    },
    {
     "name": "stderr",
     "output_type": "stream",
     "text": [
      "d:\\claseCloud\\federated-models\\.venv\\Lib\\site-packages\\sklearn\\metrics\\_classification.py:1565: UndefinedMetricWarning: Precision is ill-defined and being set to 0.0 in labels with no predicted samples. Use `zero_division` parameter to control this behavior.\n",
      "  _warn_prf(average, modifier, f\"{metric.capitalize()} is\", len(result))\n",
      "d:\\claseCloud\\federated-models\\.venv\\Lib\\site-packages\\sklearn\\metrics\\_classification.py:1565: UndefinedMetricWarning: Precision is ill-defined and being set to 0.0 in labels with no predicted samples. Use `zero_division` parameter to control this behavior.\n",
      "  _warn_prf(average, modifier, f\"{metric.capitalize()} is\", len(result))\n",
      "d:\\claseCloud\\federated-models\\.venv\\Lib\\site-packages\\sklearn\\metrics\\_classification.py:1565: UndefinedMetricWarning: Precision is ill-defined and being set to 0.0 in labels with no predicted samples. Use `zero_division` parameter to control this behavior.\n",
      "  _warn_prf(average, modifier, f\"{metric.capitalize()} is\", len(result))\n"
     ]
    }
   ],
   "source": [
    "from src.modelG import build\n",
    "\n",
    "local_weights = [x.get_weights() for x in loaded_local_models]\n",
    "averaged_weights = [np.mean(np.array(weights), axis=0) for weights in zip(*local_weights)]\n",
    "\n",
    "global_model = build.build_it()\n",
    "global_model.set_weights(averaged_weights)\n",
    "\n",
    "from sklearn.metrics import classification_report\n",
    "# Predict the classes for the test set\n",
    "y_pred = global_model.predict(x_test)\n",
    "y_pred_classes = np.argmax(y_pred, axis=1)\n",
    "\n",
    "print(classification_report(y_test, y_pred_classes))\n",
    "\n",
    "global_model.save('../models/global_modelFEDAVG.keras')\n",
    "\n",
    "\n",
    "     \n"
   ]
  },
  {
   "cell_type": "markdown",
   "id": "894bce13",
   "metadata": {},
   "source": [
    "# IDA (Inverse Distance Aggregation)\n",
    "\n",
    "**Cambiar para entrega final**\n",
    "\n",
    " is a novel adaptive weighting approach for clients based on meta-information which handles unbalanced and non-iid data. It uses the distance of the model parameters as a strategy to minimize the effect of outliers and improve the model's convergence rate"
   ]
  },
  {
   "cell_type": "code",
   "execution_count": 28,
   "id": "2a396c87",
   "metadata": {},
   "outputs": [
    {
     "name": "stderr",
     "output_type": "stream",
     "text": [
      "d:\\claseCloud\\federated-models\\.venv\\Lib\\site-packages\\keras\\src\\layers\\convolutional\\base_conv.py:107: UserWarning: Do not pass an `input_shape`/`input_dim` argument to a layer. When using Sequential models, prefer using an `Input(shape)` object as the first layer in the model instead.\n",
      "  super().__init__(activity_regularizer=activity_regularizer, **kwargs)\n"
     ]
    },
    {
     "name": "stdout",
     "output_type": "stream",
     "text": [
      "\u001b[1m313/313\u001b[0m \u001b[32m━━━━━━━━━━━━━━━━━━━━\u001b[0m\u001b[37m\u001b[0m \u001b[1m2s\u001b[0m 6ms/step\n",
      "              precision    recall  f1-score   support\n",
      "\n",
      "           0       0.00      0.00      0.00       980\n",
      "           1       0.00      0.00      0.00      1135\n",
      "           2       0.00      0.00      0.00      1032\n",
      "           3       0.00      0.00      0.00      1010\n",
      "           4       0.05      0.12      0.07       982\n",
      "           5       0.00      0.00      0.00       892\n",
      "           6       0.11      0.84      0.19       958\n",
      "           7       0.00      0.00      0.00      1028\n",
      "           8       0.00      0.00      0.00       974\n",
      "           9       0.00      0.00      0.00      1009\n",
      "\n",
      "    accuracy                           0.09     10000\n",
      "   macro avg       0.02      0.10      0.03     10000\n",
      "weighted avg       0.01      0.09      0.02     10000\n",
      "\n"
     ]
    },
    {
     "name": "stderr",
     "output_type": "stream",
     "text": [
      "d:\\claseCloud\\federated-models\\.venv\\Lib\\site-packages\\sklearn\\metrics\\_classification.py:1565: UndefinedMetricWarning: Precision is ill-defined and being set to 0.0 in labels with no predicted samples. Use `zero_division` parameter to control this behavior.\n",
      "  _warn_prf(average, modifier, f\"{metric.capitalize()} is\", len(result))\n",
      "d:\\claseCloud\\federated-models\\.venv\\Lib\\site-packages\\sklearn\\metrics\\_classification.py:1565: UndefinedMetricWarning: Precision is ill-defined and being set to 0.0 in labels with no predicted samples. Use `zero_division` parameter to control this behavior.\n",
      "  _warn_prf(average, modifier, f\"{metric.capitalize()} is\", len(result))\n",
      "d:\\claseCloud\\federated-models\\.venv\\Lib\\site-packages\\sklearn\\metrics\\_classification.py:1565: UndefinedMetricWarning: Precision is ill-defined and being set to 0.0 in labels with no predicted samples. Use `zero_division` parameter to control this behavior.\n",
      "  _warn_prf(average, modifier, f\"{metric.capitalize()} is\", len(result))\n"
     ]
    }
   ],
   "source": [
    "import numpy as np\n",
    "from src.modelG import build\n",
    "\n",
    "# Build the global model\n",
    "global_model = build.build_it()\n",
    "global_weights = global_model.get_weights()\n",
    "\n",
    "# Gather client models\n",
    "local_weights = [model.get_weights() for model in loaded_local_models]\n",
    "\n",
    "# Compute distances between each local model and the current global model\n",
    "def compute_distance(w1, w2):\n",
    "    return np.sqrt(sum([np.sum((a - b) ** 2) for a, b in zip(w1, w2)]))\n",
    "\n",
    "epsilon = 1e-10\n",
    "distances = [compute_distance(w, global_weights) for w in local_weights]\n",
    "\n",
    "# Compute inverse distance weights\n",
    "inv_dist_weights = [1 / (d + epsilon) for d in distances]\n",
    "weight_sum = sum(inv_dist_weights)\n",
    "norm_weights = [w / weight_sum for w in inv_dist_weights]\n",
    "\n",
    "# Aggregate weighted model parameters\n",
    "aggregated_weights = []\n",
    "for layer_idx, layer_weights in enumerate(zip(*local_weights)):  # Each layer across clients\n",
    "    weighted_sum = np.zeros_like(layer_weights[0])\n",
    "    for client_idx, client_weights in enumerate(local_weights):\n",
    "        weighted_sum += norm_weights[client_idx] * layer_weights[client_idx]\n",
    "    aggregated_weights.append(weighted_sum)\n",
    "    \n",
    "# Update the global model\n",
    "global_model.set_weights(aggregated_weights)\n",
    "\n",
    "# Evaluate the model\n",
    "y_pred = global_model.predict(x_test)\n",
    "y_pred_classes = np.argmax(y_pred, axis=1)\n",
    "\n",
    "from sklearn.metrics import classification_report\n",
    "print(classification_report(y_test, y_pred_classes))\n",
    "\n",
    "global_model.save('../models/global_modelIDA.keras')\n",
    "\n"
   ]
  },
  {
   "cell_type": "markdown",
   "id": "8ec98552",
   "metadata": {},
   "source": [
    "# Federated stochastic gradient descent (FedSGD)\n",
    "\n",
    "**Cambiar la descripción para la entrega**\n",
    "\n",
    "Deep learning training mainly relies on variants of stochastic gradient descent, where gradients are computed on a random subset of the total dataset and then used to make one step of the gradient descent.\n",
    "\n",
    "Federated stochastic gradient descent[19] is the direct transposition of this algorithm to the federated setting, but by using a random fraction C {\\displaystyle C} of the nodes and using all the data on this node. The gradients are averaged by the server proportionally to the number of training samples on each node, and used to make a gradient descent step. "
   ]
  },
  {
   "cell_type": "code",
   "execution_count": 29,
   "id": "1477cb3f",
   "metadata": {},
   "outputs": [
    {
     "name": "stderr",
     "output_type": "stream",
     "text": [
      "d:\\claseCloud\\federated-models\\.venv\\Lib\\site-packages\\keras\\src\\layers\\convolutional\\base_conv.py:107: UserWarning: Do not pass an `input_shape`/`input_dim` argument to a layer. When using Sequential models, prefer using an `Input(shape)` object as the first layer in the model instead.\n",
      "  super().__init__(activity_regularizer=activity_regularizer, **kwargs)\n",
      "d:\\claseCloud\\federated-models\\.venv\\Lib\\site-packages\\keras\\src\\backend\\tensorflow\\trainer.py:665: UserWarning: `model.compiled_loss()` is deprecated. Instead, use `model.compute_loss(x, y, y_pred, sample_weight, training)`.\n",
      "  warnings.warn(\n"
     ]
    },
    {
     "ename": "IndexError",
     "evalue": "list index out of range",
     "output_type": "error",
     "traceback": [
      "\u001b[31m---------------------------------------------------------------------------\u001b[39m",
      "\u001b[31mIndexError\u001b[39m                                Traceback (most recent call last)",
      "\u001b[36mCell\u001b[39m\u001b[36m \u001b[39m\u001b[32mIn[29]\u001b[39m\u001b[32m, line 13\u001b[39m\n\u001b[32m     11\u001b[39m folds=[\u001b[32m0\u001b[39m,\u001b[32m1\u001b[39m,\u001b[32m4\u001b[39m]\n\u001b[32m     12\u001b[39m \u001b[38;5;28;01mfor\u001b[39;00m local_model \u001b[38;5;129;01min\u001b[39;00m \u001b[38;5;28mrange\u001b[39m(\u001b[38;5;28mlen\u001b[39m(loaded_local_models)):\n\u001b[32m---> \u001b[39m\u001b[32m13\u001b[39m     x_train = np.load(\u001b[33mf\u001b[39m\u001b[33m'\u001b[39m\u001b[33m../data/x_train_fold_\u001b[39m\u001b[38;5;132;01m{\u001b[39;00m\u001b[43mfolds\u001b[49m\u001b[43m[\u001b[49m\u001b[43mlocal_model\u001b[49m\u001b[43m]\u001b[49m\u001b[38;5;132;01m}\u001b[39;00m\u001b[33m.npy\u001b[39m\u001b[33m'\u001b[39m)\n\u001b[32m     14\u001b[39m     y_train = np.load(\u001b[33mf\u001b[39m\u001b[33m'\u001b[39m\u001b[33m../data/y_train_fold_\u001b[39m\u001b[38;5;132;01m{\u001b[39;00mfolds[local_model]\u001b[38;5;132;01m}\u001b[39;00m\u001b[33m.npy\u001b[39m\u001b[33m'\u001b[39m)\n\u001b[32m     15\u001b[39m     \u001b[38;5;28;01mwith\u001b[39;00m tf.GradientTape() \u001b[38;5;28;01mas\u001b[39;00m tape:\n",
      "\u001b[31mIndexError\u001b[39m: list index out of range"
     ]
    }
   ],
   "source": [
    "import numpy as np\n",
    "from src.modelG import build\n",
    "\n",
    "\n",
    "\n",
    "# Build the global model\n",
    "global_model = build.build_it()\n",
    "\n",
    "# Step 1: Get gradients from each local model\n",
    "grads_list = []\n",
    "folds=[0,1,4]\n",
    "for local_model in range(len(loaded_local_models)):\n",
    "    x_train = np.load(f'../data/x_train_fold_{folds[local_model]}.npy')\n",
    "    y_train = np.load(f'../data/y_train_fold_{folds[local_model]}.npy')\n",
    "    with tf.GradientTape() as tape:\n",
    "        y_pred = loaded_local_models[local_model](x_train, training=True)\n",
    "        loss = loaded_local_models[local_model].compiled_loss(y_train, y_pred)\n",
    "    grads = tape.gradient(loss, loaded_local_models[local_model].trainable_variables)\n",
    "    grads_list.append(grads)\n",
    "\n",
    "# Step 2: Average the gradients across clients\n",
    "average_grads = []\n",
    "for grads in zip(*grads_list):\n",
    "    stacked = np.stack([g.numpy() for g in grads], axis=0)\n",
    "    avg = np.mean(stacked, axis=0)\n",
    "    average_grads.append(tf.convert_to_tensor(avg))\n",
    "\n",
    "# Step 3: Apply the averaged gradients to the global model\n",
    "optimizer = global_model.optimizer\n",
    "optimizer.apply_gradients(zip(average_grads, global_model.trainable_variables))\n",
    "\n",
    "# Step 4: Evaluate the model\n",
    "y_pred = global_model.predict(x_test)\n",
    "y_pred_classes = np.argmax(y_pred, axis=1)\n",
    "\n",
    "from sklearn.metrics import classification_report\n",
    "print(classification_report(y_test, y_pred_classes))\n",
    "\n",
    "global_model.save('../models/global_modelFEDSGD.keras')\n"
   ]
  }
 ],
 "metadata": {
  "kernelspec": {
   "display_name": ".venv",
   "language": "python",
   "name": "python3"
  },
  "language_info": {
   "codemirror_mode": {
    "name": "ipython",
    "version": 3
   },
   "file_extension": ".py",
   "mimetype": "text/x-python",
   "name": "python",
   "nbconvert_exporter": "python",
   "pygments_lexer": "ipython3",
   "version": "3.11.5"
  }
 },
 "nbformat": 4,
 "nbformat_minor": 5
}
