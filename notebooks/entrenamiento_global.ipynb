{
 "cells": [
  {
   "cell_type": "markdown",
   "id": "d68dbede",
   "metadata": {},
   "source": [
    "# Entrenamiento de modelos globales usando distintas técnicas para combinar los pesos de los modelos entrenados en distintos folds de los datos de mnist"
   ]
  },
  {
   "cell_type": "code",
   "execution_count": 39,
   "id": "b91af3ce",
   "metadata": {},
   "outputs": [],
   "source": [
    "\n",
    "\n",
    "import tensorflow as tf\n",
    "import numpy as np\n",
    "import sys\n",
    "import matplotlib.pyplot as plt\n",
    "if \"..\" not in sys.path:\n",
    "    sys.path.append(\"..\")\n"
   ]
  },
  {
   "cell_type": "markdown",
   "id": "95ee78e0",
   "metadata": {},
   "source": [
    "### Ejemplos de los datos"
   ]
  },
  {
   "cell_type": "code",
   "execution_count": 40,
   "id": "d4edc8e6",
   "metadata": {},
   "outputs": [],
   "source": [
    "x_test = np.load('../data/x_test.npy')\n",
    "y_test = np.load('../data/y_test.npy')\n"
   ]
  },
  {
   "cell_type": "code",
   "execution_count": 41,
   "id": "b053554d",
   "metadata": {},
   "outputs": [
    {
     "data": {
      "image/png": "[encoded data removed]",
      "text/plain": [
       "<Figure size 1000x500 with 5 Axes>"
      ]
     },
     "metadata": {},
     "output_type": "display_data"
    }
   ],
   "source": [
    "import matplotlib.pyplot as plt\n",
    "plt.figure(figsize=(10, 5))\n",
    "for i in range(5):\n",
    "    plt.subplot(1, 5, i+1)\n",
    "    plt.imshow(x_test[i], cmap='gray')\n",
    "    plt.title(f\"Label: {y_test[i]}\")\n",
    "    plt.axis('off')\n",
    "\n",
    "plt.show()"
   ]
  },
  {
   "cell_type": "code",
   "execution_count": 42,
   "id": "9ce1d7b9",
   "metadata": {},
   "outputs": [],
   "source": [
    "## Abrir los modelos:\n",
    "\n",
    "import os\n",
    "loaded_local_models = [tf.keras.models.load_model(os.path.join(root, file)) for root, dirs, files in os.walk(\"../local_models\") for file in files if file.endswith('.keras')]\n"
   ]
  },
  {
   "cell_type": "markdown",
   "id": "c9b49171",
   "metadata": {},
   "source": [
    "# Federated averaging\n",
    "\n",
    "\n",
    "FedAvg se trata de una técnica de optimización para el aprendizaje federado donde se promedian los pesos de los modelos locales para generar los pesos de predicción para el modelo global, como tal resulta como una técnica bastante eficiente en tiempo, dado que no se requiere un nuevo entrenamiento para generar el modelo final, no obstante, puede que resulte en un modelo sesgado en caso de que alguno de los modelos locales obtenga pesos muy diferentes a la media."
   ]
  },
  {
   "cell_type": "code",
   "execution_count": 43,
   "id": "20fcc003",
   "metadata": {},
   "outputs": [
    {
     "name": "stderr",
     "output_type": "stream",
     "text": [
      "d:\\claseCloud\\federated-models\\.venv\\Lib\\site-packages\\keras\\src\\layers\\convolutional\\base_conv.py:107: UserWarning: Do not pass an `input_shape`/`input_dim` argument to a layer. When using Sequential models, prefer using an `Input(shape)` object as the first layer in the model instead.\n",
      "  super().__init__(activity_regularizer=activity_regularizer, **kwargs)\n"
     ]
    },
    {
     "name": "stdout",
     "output_type": "stream",
     "text": [
      "\u001b[1m313/313\u001b[0m \u001b[32m━━━━━━━━━━━━━━━━━━━━\u001b[0m\u001b[37m\u001b[0m \u001b[1m2s\u001b[0m 7ms/step\n",
      "              precision    recall  f1-score   support\n",
      "\n",
      "           0       0.00      0.00      0.00       980\n",
      "           1       0.00      0.00      0.00      1135\n",
      "           2       0.10      1.00      0.19      1032\n",
      "           3       0.00      0.00      0.00      1010\n",
      "           4       0.00      0.00      0.00       982\n",
      "           5       0.00      0.00      0.00       892\n",
      "           6       0.00      0.00      0.00       958\n",
      "           7       0.00      0.00      0.00      1028\n",
      "           8       0.00      0.00      0.00       974\n",
      "           9       0.00      0.00      0.00      1009\n",
      "\n",
      "    accuracy                           0.10     10000\n",
      "   macro avg       0.01      0.10      0.02     10000\n",
      "weighted avg       0.01      0.10      0.02     10000\n",
      "\n"
     ]
    },
    {
     "name": "stderr",
     "output_type": "stream",
     "text": [
      "d:\\claseCloud\\federated-models\\.venv\\Lib\\site-packages\\sklearn\\metrics\\_classification.py:1565: UndefinedMetricWarning: Precision is ill-defined and being set to 0.0 in labels with no predicted samples. Use `zero_division` parameter to control this behavior.\n",
      "  _warn_prf(average, modifier, f\"{metric.capitalize()} is\", len(result))\n",
      "d:\\claseCloud\\federated-models\\.venv\\Lib\\site-packages\\sklearn\\metrics\\_classification.py:1565: UndefinedMetricWarning: Precision is ill-defined and being set to 0.0 in labels with no predicted samples. Use `zero_division` parameter to control this behavior.\n",
      "  _warn_prf(average, modifier, f\"{metric.capitalize()} is\", len(result))\n",
      "d:\\claseCloud\\federated-models\\.venv\\Lib\\site-packages\\sklearn\\metrics\\_classification.py:1565: UndefinedMetricWarning: Precision is ill-defined and being set to 0.0 in labels with no predicted samples. Use `zero_division` parameter to control this behavior.\n",
      "  _warn_prf(average, modifier, f\"{metric.capitalize()} is\", len(result))\n"
     ]
    }
   ],
   "source": [
    "from src.modelG import build\n",
    "\n",
    "local_weights = [x.get_weights() for x in loaded_local_models]\n",
    "averaged_weights = [np.mean(np.array(weights), axis=0) for weights in zip(*local_weights)]\n",
    "\n",
    "global_model = build.build_it()\n",
    "global_model.set_weights(averaged_weights)\n",
    "\n",
    "from sklearn.metrics import classification_report\n",
    "y_pred = global_model.predict(x_test)\n",
    "y_pred_classes = np.argmax(y_pred, axis=1)\n",
    "\n",
    "print(classification_report(y_test, y_pred_classes))\n",
    "\n",
    "global_model.save('../global_models/global_modelFEDAVG.keras')\n",
    "\n",
    "\n",
    "     \n"
   ]
  },
  {
   "cell_type": "markdown",
   "id": "894bce13",
   "metadata": {},
   "source": [
    "# IDA (Inverse Distance Aggregation)\n",
    "\n",
    "Es una metodología que calcula las distancias de los modelos locales al global (inicializado usando la función build) (en este caso se utiliza la euclidiana) y después de eso se calculan los pesos del modelo global usando la norma de la suma de las distancias inversas de los modelos locales. Se considera bueno dado que reduce el effecto de datos atípicos en el set de entrenamiento."
   ]
  },
  {
   "cell_type": "code",
   "execution_count": 44,
   "id": "2a396c87",
   "metadata": {},
   "outputs": [
    {
     "name": "stderr",
     "output_type": "stream",
     "text": [
      "d:\\claseCloud\\federated-models\\.venv\\Lib\\site-packages\\keras\\src\\layers\\convolutional\\base_conv.py:107: UserWarning: Do not pass an `input_shape`/`input_dim` argument to a layer. When using Sequential models, prefer using an `Input(shape)` object as the first layer in the model instead.\n",
      "  super().__init__(activity_regularizer=activity_regularizer, **kwargs)\n"
     ]
    },
    {
     "name": "stdout",
     "output_type": "stream",
     "text": [
      "\u001b[1m313/313\u001b[0m \u001b[32m━━━━━━━━━━━━━━━━━━━━\u001b[0m\u001b[37m\u001b[0m \u001b[1m2s\u001b[0m 6ms/step\n",
      "              precision    recall  f1-score   support\n",
      "\n",
      "           0       0.00      0.00      0.00       980\n",
      "           1       0.00      0.00      0.00      1135\n",
      "           2       0.10      1.00      0.19      1032\n",
      "           3       0.00      0.00      0.00      1010\n",
      "           4       0.00      0.00      0.00       982\n",
      "           5       0.00      0.00      0.00       892\n",
      "           6       0.00      0.00      0.00       958\n",
      "           7       0.00      0.00      0.00      1028\n",
      "           8       0.00      0.00      0.00       974\n",
      "           9       0.00      0.00      0.00      1009\n",
      "\n",
      "    accuracy                           0.10     10000\n",
      "   macro avg       0.01      0.10      0.02     10000\n",
      "weighted avg       0.01      0.10      0.02     10000\n",
      "\n"
     ]
    },
    {
     "name": "stderr",
     "output_type": "stream",
     "text": [
      "d:\\claseCloud\\federated-models\\.venv\\Lib\\site-packages\\sklearn\\metrics\\_classification.py:1565: UndefinedMetricWarning: Precision is ill-defined and being set to 0.0 in labels with no predicted samples. Use `zero_division` parameter to control this behavior.\n",
      "  _warn_prf(average, modifier, f\"{metric.capitalize()} is\", len(result))\n",
      "d:\\claseCloud\\federated-models\\.venv\\Lib\\site-packages\\sklearn\\metrics\\_classification.py:1565: UndefinedMetricWarning: Precision is ill-defined and being set to 0.0 in labels with no predicted samples. Use `zero_division` parameter to control this behavior.\n",
      "  _warn_prf(average, modifier, f\"{metric.capitalize()} is\", len(result))\n",
      "d:\\claseCloud\\federated-models\\.venv\\Lib\\site-packages\\sklearn\\metrics\\_classification.py:1565: UndefinedMetricWarning: Precision is ill-defined and being set to 0.0 in labels with no predicted samples. Use `zero_division` parameter to control this behavior.\n",
      "  _warn_prf(average, modifier, f\"{metric.capitalize()} is\", len(result))\n"
     ]
    }
   ],
   "source": [
    "import numpy as np\n",
    "from src.modelG import build\n",
    "\n",
    "# Construir el modelo global\n",
    "global_model = build.build_it()\n",
    "global_weights = global_model.get_weights()\n",
    "\n",
    "# Cargar los modelos locales\n",
    "local_weights = [model.get_weights() for model in loaded_local_models]\n",
    "\n",
    "# Función para calcular la distancia euclidiana entre dos conjuntos de pesos\n",
    "def compute_distance(w1, w2):\n",
    "    return np.sqrt(sum([np.sum((a - b) ** 2) for a, b in zip(w1, w2)]))\n",
    "\n",
    "# Parámetro para la distancia\n",
    "epsilon = 1e-10\n",
    "\n",
    "# Calcular la distancia entre los pesos locales y los pesos globales\n",
    "distances = [compute_distance(w, global_weights) for w in local_weights]\n",
    "\n",
    "# Calcular los pesos inversos basados en la distancia\n",
    "# y normalizarlos\n",
    "inv_dist_weights = [1 / (d + epsilon) for d in distances]\n",
    "weight_sum = sum(inv_dist_weights)\n",
    "norm_weights = [w / weight_sum for w in inv_dist_weights]\n",
    "\n",
    "# Realizar la agregación ponderada de los pesos locales\n",
    "aggregated_weights = []\n",
    "for layer_idx, layer_weights in enumerate(zip(*local_weights)):  \n",
    "    weighted_sum = np.zeros_like(layer_weights[0])\n",
    "    for client_idx, client_weights in enumerate(local_weights):\n",
    "        weighted_sum += norm_weights[client_idx] * layer_weights[client_idx]\n",
    "    aggregated_weights.append(weighted_sum)\n",
    "    \n",
    "# Actualizar el modelo global con los pesos agregados\n",
    "global_model.set_weights(aggregated_weights)\n",
    "\n",
    "# Evaluar el modelo global\n",
    "y_pred = global_model.predict(x_test)\n",
    "y_pred_classes = np.argmax(y_pred, axis=1)\n",
    "\n",
    "from sklearn.metrics import classification_report\n",
    "print(classification_report(y_test, y_pred_classes))\n",
    "\n",
    "global_model.save('../global_models/global_modelIDA.keras')\n",
    "\n"
   ]
  },
  {
   "cell_type": "markdown",
   "id": "8ec98552",
   "metadata": {},
   "source": [
    "# Federated stochastic gradient descent (FedSGD)\n",
    "\n",
    "\n",
    "Esta técnica es parecida a FedAVG, solo que en lugar de utilizar la media de los pesos de los modelos locales, utiliza la media de los gradientes de los modelos locales para calcular el gradiente del optimizador del modelo global, como tal podría sufrir los mismos problemas de sesgo correspondientes a FedAVG"
   ]
  },
  {
   "cell_type": "code",
   "execution_count": null,
   "id": "1477cb3f",
   "metadata": {},
   "outputs": [
    {
     "name": "stderr",
     "output_type": "stream",
     "text": [
      "d:\\claseCloud\\federated-models\\.venv\\Lib\\site-packages\\keras\\src\\layers\\convolutional\\base_conv.py:107: UserWarning: Do not pass an `input_shape`/`input_dim` argument to a layer. When using Sequential models, prefer using an `Input(shape)` object as the first layer in the model instead.\n",
      "  super().__init__(activity_regularizer=activity_regularizer, **kwargs)\n",
      "d:\\claseCloud\\federated-models\\.venv\\Lib\\site-packages\\keras\\src\\backend\\tensorflow\\trainer.py:665: UserWarning: `model.compiled_loss()` is deprecated. Instead, use `model.compute_loss(x, y, y_pred, sample_weight, training)`.\n",
      "  warnings.warn(\n"
     ]
    },
    {
     "name": "stdout",
     "output_type": "stream",
     "text": [
      "\u001b[1m313/313\u001b[0m \u001b[32m━━━━━━━━━━━━━━━━━━━━\u001b[0m\u001b[37m\u001b[0m \u001b[1m1s\u001b[0m 3ms/step\n",
      "              precision    recall  f1-score   support\n",
      "\n",
      "           0       0.00      0.00      0.00       980\n",
      "           1       0.00      0.00      0.00      1135\n",
      "           2       0.00      0.00      0.00      1032\n",
      "           3       0.00      0.00      0.00      1010\n",
      "           4       0.00      0.00      0.00       982\n",
      "           5       0.00      0.00      0.00       892\n",
      "           6       0.00      0.00      0.00       958\n",
      "           7       0.00      0.00      0.00      1028\n",
      "           8       0.10      1.00      0.18       974\n",
      "           9       0.00      0.00      0.00      1009\n",
      "\n",
      "    accuracy                           0.10     10000\n",
      "   macro avg       0.01      0.10      0.02     10000\n",
      "weighted avg       0.01      0.10      0.02     10000\n",
      "\n"
     ]
    },
    {
     "name": "stderr",
     "output_type": "stream",
     "text": [
      "d:\\claseCloud\\federated-models\\.venv\\Lib\\site-packages\\sklearn\\metrics\\_classification.py:1565: UndefinedMetricWarning: Precision is ill-defined and being set to 0.0 in labels with no predicted samples. Use `zero_division` parameter to control this behavior.\n",
      "  _warn_prf(average, modifier, f\"{metric.capitalize()} is\", len(result))\n",
      "d:\\claseCloud\\federated-models\\.venv\\Lib\\site-packages\\sklearn\\metrics\\_classification.py:1565: UndefinedMetricWarning: Precision is ill-defined and being set to 0.0 in labels with no predicted samples. Use `zero_division` parameter to control this behavior.\n",
      "  _warn_prf(average, modifier, f\"{metric.capitalize()} is\", len(result))\n",
      "d:\\claseCloud\\federated-models\\.venv\\Lib\\site-packages\\sklearn\\metrics\\_classification.py:1565: UndefinedMetricWarning: Precision is ill-defined and being set to 0.0 in labels with no predicted samples. Use `zero_division` parameter to control this behavior.\n",
      "  _warn_prf(average, modifier, f\"{metric.capitalize()} is\", len(result))\n"
     ]
    }
   ],
   "source": [
    "import numpy as np\n",
    "from src.modelG import build\n",
    "\n",
    "\n",
    "global_model = build.build_it()\n",
    "\n",
    "# Obtener los pesos de los modelos locales\n",
    "grads_list = []\n",
    "\n",
    "for local_model in range(len(loaded_local_models)):\n",
    "    \n",
    "    x_train = np.load(f'../data/x_train_fold_{local_model}.npy')\n",
    "    y_train = np.load(f'../data/y_train_fold_{local_model}.npy')\n",
    "    with tf.GradientTape() as tape:\n",
    "        y_pred = loaded_local_models[local_model](x_train, training=True)\n",
    "        loss = loaded_local_models[local_model].compiled_loss(y_train, y_pred)\n",
    "    grads = tape.gradient(loss, loaded_local_models[local_model].trainable_variables)\n",
    "    grads_list.append(grads)\n",
    "\n",
    "# Promediar los gradientes\n",
    "average_grads = []\n",
    "for grads in zip(*grads_list):\n",
    "    stacked = np.stack([g.numpy() for g in grads], axis=0)\n",
    "    avg = np.mean(stacked, axis=0)\n",
    "    average_grads.append(tf.convert_to_tensor(avg))\n",
    "\n",
    "# Actualizar el modelo global con los gradientes promediados\n",
    "optimizer = global_model.optimizer\n",
    "optimizer.apply_gradients(zip(average_grads, global_model.trainable_variables))\n",
    "\n",
    "# Predecir con el modelo global\n",
    "y_pred = global_model.predict(x_test)\n",
    "y_pred_classes = np.argmax(y_pred, axis=1)\n",
    "\n",
    "from sklearn.metrics import classification_report\n",
    "print(classification_report(y_test, y_pred_classes))\n",
    "\n",
    "global_model.save('../global_models/global_modelFEDSGD.keras')\n"
   ]
  }
 ],
 "metadata": {
  "kernelspec": {
   "display_name": ".venv",
   "language": "python",
   "name": "python3"
  },
  "language_info": {
   "codemirror_mode": {
    "name": "ipython",
    "version": 3
   },
   "file_extension": ".py",
   "mimetype": "text/x-python",
   "name": "python",
   "nbconvert_exporter": "python",
   "pygments_lexer": "ipython3",
   "version": "3.11.5"
  }
 },
 "nbformat": 4,
 "nbformat_minor": 5
}
