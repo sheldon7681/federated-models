{
 "cells": [
  {
   "cell_type": "markdown",
   "id": "c680449d",
   "metadata": {},
   "source": [
    "# Notebook donde se desarrolla el entrenamiento local con una parte de los datos"
   ]
  },
  {
   "cell_type": "markdown",
   "id": "63ea0d36",
   "metadata": {},
   "source": [
    "**Cargar las librerias**"
   ]
  },
  {
   "cell_type": "code",
   "execution_count": 19,
   "id": "1021a2b8",
   "metadata": {},
   "outputs": [],
   "source": [
    "import sys\n",
    "\n",
    "if \"..\" not in sys.path:\n",
    "    sys.path.append(\"..\")\n",
    "\n",
    "import tensorflow as tf\n",
    "import numpy as np\n",
    "import matplotlib.pyplot as plt\n",
    "import pandas as pd"
   ]
  },
  {
   "cell_type": "markdown",
   "id": "0fe908db",
   "metadata": {},
   "source": [
    "**Cargar los datos**\n"
   ]
  },
  {
   "cell_type": "code",
   "execution_count": 20,
   "id": "f1d6d2ef",
   "metadata": {},
   "outputs": [
    {
     "data": {
      "text/plain": [
       "((12000, 28, 28, 1), (12000,))"
      ]
     },
     "execution_count": 20,
     "metadata": {},
     "output_type": "execute_result"
    }
   ],
   "source": [
    "\n",
    "# Cargar archivo numpy dependiendo del fold\n",
    "fold = 0\n",
    "\n",
    "x_local = np.load(f'../data/x_train_fold_{fold}.npy')\n",
    "y_local = np.load(f'../data/y_train_fold_{fold}.npy')\n",
    "\n",
    "\n",
    "x_local.shape, y_local.shape\n"
   ]
  },
  {
   "cell_type": "code",
   "execution_count": 21,
   "id": "2f1e20c4",
   "metadata": {},
   "outputs": [
    {
     "data": {
      "text/plain": [
       "((10000, 28, 28, 1), (10000,))"
      ]
     },
     "execution_count": 21,
     "metadata": {},
     "output_type": "execute_result"
    }
   ],
   "source": [
    "\n",
    "# Cargar los datos de prueba\n",
    "x_test = np.load('../data/x_test.npy')\n",
    "y_test = np.load('../data/y_test.npy')\n",
    "x_test.shape, y_test.shape"
   ]
  },
  {
   "cell_type": "code",
   "execution_count": 22,
   "id": "089804a0",
   "metadata": {},
   "outputs": [
    {
     "name": "stdout",
     "output_type": "stream",
     "text": [
      "<Sequential name=sequential_7, built=True>\n",
      "Epoch 1/5\n"
     ]
    },
    {
     "name": "stderr",
     "output_type": "stream",
     "text": [
      "d:\\claseCloud\\federated-models\\.venv\\Lib\\site-packages\\keras\\src\\layers\\convolutional\\base_conv.py:107: UserWarning: Do not pass an `input_shape`/`input_dim` argument to a layer. When using Sequential models, prefer using an `Input(shape)` object as the first layer in the model instead.\n",
      "  super().__init__(activity_regularizer=activity_regularizer, **kwargs)\n"
     ]
    },
    {
     "name": "stdout",
     "output_type": "stream",
     "text": [
      "\u001b[1m375/375\u001b[0m \u001b[32m━━━━━━━━━━━━━━━━━━━━\u001b[0m\u001b[37m\u001b[0m \u001b[1m4s\u001b[0m 8ms/step - accuracy: 0.2445 - loss: 2.0482 - val_accuracy: 0.7180 - val_loss: 0.8885\n",
      "Epoch 2/5\n",
      "\u001b[1m375/375\u001b[0m \u001b[32m━━━━━━━━━━━━━━━━━━━━\u001b[0m\u001b[37m\u001b[0m \u001b[1m2s\u001b[0m 6ms/step - accuracy: 0.7879 - loss: 0.7052 - val_accuracy: 0.8684 - val_loss: 0.4532\n",
      "Epoch 3/5\n",
      "\u001b[1m375/375\u001b[0m \u001b[32m━━━━━━━━━━━━━━━━━━━━\u001b[0m\u001b[37m\u001b[0m \u001b[1m2s\u001b[0m 6ms/step - accuracy: 0.8681 - loss: 0.4648 - val_accuracy: 0.9057 - val_loss: 0.3376\n",
      "Epoch 4/5\n",
      "\u001b[1m375/375\u001b[0m \u001b[32m━━━━━━━━━━━━━━━━━━━━\u001b[0m\u001b[37m\u001b[0m \u001b[1m3s\u001b[0m 7ms/step - accuracy: 0.8978 - loss: 0.3459 - val_accuracy: 0.9130 - val_loss: 0.2962\n",
      "Epoch 5/5\n",
      "\u001b[1m375/375\u001b[0m \u001b[32m━━━━━━━━━━━━━━━━━━━━\u001b[0m\u001b[37m\u001b[0m \u001b[1m3s\u001b[0m 7ms/step - accuracy: 0.9175 - loss: 0.2839 - val_accuracy: 0.9097 - val_loss: 0.2934\n",
      "\u001b[1m313/313\u001b[0m \u001b[32m━━━━━━━━━━━━━━━━━━━━\u001b[0m\u001b[37m\u001b[0m \u001b[1m1s\u001b[0m 2ms/step\n",
      "              precision    recall  f1-score   support\n",
      "\n",
      "           0       0.96      0.96      0.96       980\n",
      "           1       0.99      0.97      0.98      1135\n",
      "           2       0.92      0.87      0.89      1032\n",
      "           3       0.74      0.98      0.84      1010\n",
      "           4       0.98      0.83      0.90       982\n",
      "           5       0.96      0.79      0.86       892\n",
      "           6       0.97      0.93      0.95       958\n",
      "           7       0.94      0.92      0.93      1028\n",
      "           8       0.89      0.93      0.91       974\n",
      "           9       0.84      0.90      0.87      1009\n",
      "\n",
      "    accuracy                           0.91     10000\n",
      "   macro avg       0.92      0.91      0.91     10000\n",
      "weighted avg       0.92      0.91      0.91     10000\n",
      "\n"
     ]
    },
    {
     "data": {
      "image/png": "[encoded data removed]",
      "text/plain": [
       "<Figure size 640x480 with 1 Axes>"
      ]
     },
     "metadata": {},
     "output_type": "display_data"
    }
   ],
   "source": [
    "from sklearn.metrics import classification_report\n",
    "from src.modelG import build\n",
    "def train_and_verify(local_model, x_local, y_local, epochs, x_test, y_test, save_name):\n",
    "\n",
    "    print(local_model)\n",
    "\n",
    "    history = local_model.fit(x_local, y_local, epochs=epochs, validation_data=(x_test, y_test))\n",
    "    y_pred = local_model.predict(x_test)\n",
    "    y_pred_classes = np.argmax(y_pred, axis=1)\n",
    "    print(classification_report(y_test, y_pred_classes))\n",
    "\n",
    "    plt.plot(history.history['accuracy'], label='Training accuracy')\n",
    "    plt.plot(history.history['val_accuracy'], label='Validation accuracy')\n",
    "    plt.xlabel('Epochs')\n",
    "    plt.ylabel('Accuracy')\n",
    "    plt.legend()\n",
    "    plt.show()\n",
    "\n",
    "    local_model.save(save_name)\n",
    "\n",
    "# Entrenamientos locales. Cada uno de estos deben hacerse en computadoras aparte.\n",
    "from tqdm import tqdm\n",
    "\n",
    "local_model = build.build_it()\n",
    "train_and_verify(local_model, x_local, y_local, 5, x_test, y_test, f\"../models/lmodel_{fold}.keras\")"
   ]
  },
  {
   "cell_type": "markdown",
   "id": "b24f0911",
   "metadata": {},
   "source": [
    "# Curvas de aprendizaje"
   ]
  },
  {
   "cell_type": "markdown",
   "id": "12d9b5f5",
   "metadata": {},
   "source": [
    "## Fold 0\n",
    "![alt text](path/to/image.png)"
   ]
  }
 ],
 "metadata": {
  "kernelspec": {
   "display_name": ".venv",
   "language": "python",
   "name": "python3"
  },
  "language_info": {
   "codemirror_mode": {
    "name": "ipython",
    "version": 3
   },
   "file_extension": ".py",
   "mimetype": "text/x-python",
   "name": "python",
   "nbconvert_exporter": "python",
   "pygments_lexer": "ipython3",
   "version": "3.11.5"
  }
 },
 "nbformat": 4,
 "nbformat_minor": 5
}
