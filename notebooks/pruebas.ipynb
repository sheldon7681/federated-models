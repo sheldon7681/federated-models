{
 "cells": [
  {
   "cell_type": "markdown",
   "id": "4cd7b6b2",
   "metadata": {},
   "source": [
    "# The Mnist data\n",
    "\n"
   ]
  },
  {
   "cell_type": "markdown",
   "id": "02543466",
   "metadata": {},
   "source": [
    "#### Import the libraries"
   ]
  },
  {
   "cell_type": "code",
   "execution_count": 8,
   "id": "115e7dcf",
   "metadata": {},
   "outputs": [
    {
     "data": {
      "image/png": "[encoded data removed]",
      "text/plain": [
       "<Figure size 1000x500 with 5 Axes>"
      ]
     },
     "metadata": {},
     "output_type": "display_data"
    }
   ],
   "source": [
    "import tensorflow as tf\n",
    "import numpy as np \n",
    "import matplotlib.pyplot as plt\n",
    "from sklearn.model_selection import StratifiedKFold\n",
    "from sklearn.metrics import classification_report\n",
    "\n",
    "\n",
    "train, test = tf.keras.datasets.mnist.load_data()\n",
    "\n",
    "x_train, x_test = np.expand_dims(train[0] / 255.0, -1), np.expand_dims(test[0] / 255.0, -1)\n",
    "y_train, y_test = train[1], test[1]\n",
    "\n",
    "import matplotlib.pyplot as plt\n",
    "plt.figure(figsize=(10, 5))\n",
    "for i in range(5):\n",
    "    plt.subplot(1, 5, i+1)\n",
    "    plt.imshow(x_train[i], cmap='gray')\n",
    "    plt.title(f\"Label: {y_train[i]}\")\n",
    "    plt.axis('off')\n",
    "\n",
    "plt.show()\n",
    "\n",
    "\n",
    "## Data split para simular cinco datos aparte.\n",
    "from sklearn.model_selection import StratifiedKFold\n",
    "\n",
    "skf = StratifiedKFold(n_splits=5, shuffle=True, random_state=42)\n",
    "\n",
    "folds = skf.split(x_train, y_train)\n",
    "\n"
   ]
  },
  {
   "cell_type": "code",
   "execution_count": 9,
   "id": "241b9475",
   "metadata": {},
   "outputs": [
    {
     "name": "stdout",
     "output_type": "stream",
     "text": [
      "12000\n",
      "Frecuencia de números: {0: 1184, 1: 1348, 2: 1191, 3: 1227, 4: 1169, 5: 1085, 6: 1183, 7: 1253, 8: 1170, 9: 1190}\n",
      "Primeros ejemplos (labels): [5, 2, 8, 0, 4, 3, 7, 5, 6, 5, 3, 9, 4, 6, 1]\n",
      "12000\n",
      "Frecuencia de números: {0: 1185, 1: 1349, 2: 1191, 3: 1226, 4: 1168, 5: 1084, 6: 1184, 7: 1253, 8: 1170, 9: 1190}\n",
      "Primeros ejemplos (labels): [0, 9, 2, 1, 4, 5, 3, 6, 6, 1, 9, 4, 4, 6, 0]\n",
      "12000\n",
      "Frecuencia de números: {0: 1185, 1: 1349, 2: 1192, 3: 1226, 4: 1168, 5: 1084, 6: 1184, 7: 1253, 8: 1170, 9: 1189}\n",
      "Primeros ejemplos (labels): [4, 1, 9, 2, 3, 8, 7, 6, 7, 3, 0, 7, 4, 4, 5]\n",
      "12000\n",
      "Frecuencia de números: {0: 1185, 1: 1348, 2: 1192, 3: 1226, 4: 1168, 5: 1084, 6: 1184, 7: 1253, 8: 1170, 9: 1190}\n",
      "Primeros ejemplos (labels): [3, 9, 1, 2, 6, 9, 0, 8, 9, 8, 9, 0, 0, 7, 8]\n",
      "12000\n",
      "Frecuencia de números: {0: 1184, 1: 1348, 2: 1192, 3: 1226, 4: 1169, 5: 1084, 6: 1183, 7: 1253, 8: 1171, 9: 1190}\n",
      "Primeros ejemplos (labels): [1, 3, 1, 7, 4, 0, 1, 3, 8, 9, 0, 1, 7, 9, 2]\n"
     ]
    }
   ],
   "source": [
    "local_data = [(x_train[tsix], y_train[tsix]) for trix, tsix in folds]\n",
    "\n",
    "for x in local_data:\n",
    "    print(len(x[0]))\n",
    "    print(f\"Frecuencia de números: { {int(y):list(x[1]).count(y) for y in set(x[1])} }\")\n",
    "    print(f\"Primeros ejemplos (labels): {[int(y) for y in list(x[1])[:15]]}\")"
   ]
  },
  {
   "cell_type": "code",
   "execution_count": 17,
   "id": "88096a3e",
   "metadata": {},
   "outputs": [],
   "source": [
    "# Saving the data\n",
    "for i, (x, y) in enumerate(local_data):\n",
    "    np.save(f'../data/x_train_fold_{i}.npy', x)\n",
    "    np.save(f'../data/y_train_fold_{i}.npy', y)\n",
    "\n",
    "np.save('../data/x_test.npy', x_test)\n",
    "np.save('../data/y_test.npy', y_test)\n",
    "\n",
    "\n"
   ]
  },
  {
   "cell_type": "code",
   "execution_count": 7,
   "id": "3eb75add",
   "metadata": {},
   "outputs": [],
   "source": [
    "x_train_fold0 = np.load('../data/x_train_fold_0.npy')\n",
    "y_train_fold0 = np.load('../data/y_train_fold_0.npy')\n"
   ]
  },
  {
   "cell_type": "markdown",
   "id": "b3d71dd4",
   "metadata": {},
   "source": [
    "### Entrenado los modelos"
   ]
  },
  {
   "cell_type": "code",
   "execution_count": null,
   "id": "de4d1aa1",
   "metadata": {},
   "outputs": [],
   "source": [
    "\n",
    "\n",
    "\n",
    "\n",
    "\n"
   ]
  },
  {
   "cell_type": "code",
   "execution_count": null,
   "id": "36104a7e",
   "metadata": {},
   "outputs": [],
   "source": []
  }
 ],
 "metadata": {
  "kernelspec": {
   "display_name": ".venv",
   "language": "python",
   "name": "python3"
  },
  "language_info": {
   "codemirror_mode": {
    "name": "ipython",
    "version": 3
   },
   "file_extension": ".py",
   "mimetype": "text/x-python",
   "name": "python",
   "nbconvert_exporter": "python",
   "pygments_lexer": "ipython3",
   "version": "3.11.9"
  }
 },
 "nbformat": 4,
 "nbformat_minor": 5
}
