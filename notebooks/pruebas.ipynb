{
 "cells": [
  {
   "cell_type": "markdown",
   "id": "4cd7b6b2",
   "metadata": {},
   "source": [
    "# The Mnist data\n",
    "\n"
   ]
  },
  {
   "cell_type": "markdown",
   "id": "02543466",
   "metadata": {},
   "source": [
    "#### Import the libraries"
   ]
  },
  {
   "cell_type": "code",
   "execution_count": null,
   "id": "115e7dcf",
   "metadata": {},
   "outputs": [],
   "source": [
    "import tensorflow as tf\n",
    "import numpy as np \n",
    "import matplotlib.pyplot as plt\n",
    "from sklearn.model_selection import StratifiedKFold\n",
    "from sklearn.metrics import classification_report\n",
    "\n",
    "\n",
    "\n",
    "train, test = tf.keras.datasets.mnist.load_data()\n",
    "\n",
    "\n",
    "x_train, y_train = train\n",
    "x_test, y_test = test\n",
    "\n",
    "\n",
    "# Normalize the data\n",
    "x_train = x_train.astype('float32') / 255\n",
    "x_test = x_test.astype('float32') / 255\n",
    "\n",
    "# Reshape the data to include the channel dimension\n",
    "x_train = np.expand_dims(x_train, axis=-1)\n",
    "x_test = np.expand_dims(x_test, axis=-1)\n",
    "\n",
    "\n",
    "# Convert the labels to one-hot encoding\n",
    "num_classes = 10\n",
    "y_train = tf.keras.utils.to_categorical(y_train, num_classes)\n",
    "y_test = tf.keras.utils.to_categorical(y_test, num_classes)\n",
    "\n"
   ]
  },
  {
   "cell_type": "code",
   "execution_count": 13,
   "id": "c961ffb0",
   "metadata": {},
   "outputs": [
    {
     "data": {
      "image/png": "[encoded data removed]",
      "text/plain": [
       "<Figure size 640x480 with 10 Axes>"
      ]
     },
     "metadata": {},
     "output_type": "display_data"
    }
   ],
   "source": [
    "for i in range(10):\n",
    "    plt.subplot(2, 5, i + 1)\n",
    "    plt.imshow(x_train[i].reshape(28, 28), cmap='gray')\n",
    "    plt.axis('off')\n",
    "    plt.title(f'Label: {np.argmax(y_train[i])}')\n",
    "plt.tight_layout()\n",
    "plt.show()\n",
    "    "
   ]
  },
  {
   "cell_type": "code",
   "execution_count": 14,
   "id": "7b05b040",
   "metadata": {},
   "outputs": [
    {
     "name": "stdout",
     "output_type": "stream",
     "text": [
      "(48000, 28, 28, 1)\n",
      "Frecuencia de etiquetas: (array([0, 1, 2, 3, 4, 5, 6, 7, 8, 9]), array([4739, 5394, 4767, 4904, 4673, 4336, 4735, 5012, 4681, 4759]))\n",
      "========================================\n",
      "(48000, 28, 28, 1)\n",
      "Frecuencia de etiquetas: (array([0, 1, 2, 3, 4, 5, 6, 7, 8, 9]), array([4738, 5393, 4767, 4905, 4674, 4337, 4734, 5012, 4681, 4759]))\n",
      "========================================\n",
      "(48000, 28, 28, 1)\n",
      "Frecuencia de etiquetas: (array([0, 1, 2, 3, 4, 5, 6, 7, 8, 9]), array([4738, 5393, 4766, 4905, 4674, 4337, 4734, 5012, 4681, 4760]))\n",
      "========================================\n",
      "(48000, 28, 28, 1)\n",
      "Frecuencia de etiquetas: (array([0, 1, 2, 3, 4, 5, 6, 7, 8, 9]), array([4738, 5394, 4766, 4905, 4674, 4337, 4734, 5012, 4681, 4759]))\n",
      "========================================\n",
      "(48000, 28, 28, 1)\n",
      "Frecuencia de etiquetas: (array([0, 1, 2, 3, 4, 5, 6, 7, 8, 9]), array([4739, 5394, 4766, 4905, 4673, 4337, 4735, 5012, 4680, 4759]))\n",
      "========================================\n"
     ]
    }
   ],
   "source": [
    "\n",
    "skf = StratifiedKFold(n_splits=5, shuffle=True, random_state=42)\n",
    "folds = skf.split(x_train, np.argmax(y_train, axis=1))\n",
    "\n",
    "\n",
    "\n",
    "local_data = [(x_train[train_index], y_train[train_index]) for train_index, _ in folds]\n",
    "\n",
    "for i in local_data:\n",
    "    print(i[0].shape)\n",
    "    print(f'Frecuencia de etiquetas: {np.unique(np.argmax(i[1], axis=1), return_counts=True)}')\n",
    "    print('===='*10)\n",
    "\n",
    "\n"
   ]
  },
  {
   "cell_type": "code",
   "execution_count": 28,
   "id": "88096a3e",
   "metadata": {},
   "outputs": [],
   "source": [
    "# Saving the data\n",
    "for i, (x, y) in enumerate(local_data):\n",
    "    np.save(f'../data/x_train_fold_{i}.npy', x)\n",
    "    np.save(f'../data/y_train_fold_{i}.npy', y)"
   ]
  },
  {
   "cell_type": "code",
   "execution_count": null,
   "id": "3eb75add",
   "metadata": {},
   "outputs": [],
   "source": []
  }
 ],
 "metadata": {
  "kernelspec": {
   "display_name": ".venv",
   "language": "python",
   "name": "python3"
  },
  "language_info": {
   "codemirror_mode": {
    "name": "ipython",
    "version": 3
   },
   "file_extension": ".py",
   "mimetype": "text/x-python",
   "name": "python",
   "nbconvert_exporter": "python",
   "pygments_lexer": "ipython3",
   "version": "3.11.9"
  }
 },
 "nbformat": 4,
 "nbformat_minor": 5
}
